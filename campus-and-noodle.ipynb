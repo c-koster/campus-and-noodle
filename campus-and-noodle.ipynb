{
 "cells": [
  {
   "cell_type": "code",
   "execution_count": 13,
   "metadata": {},
   "outputs": [],
   "source": [
    "# get all noodle headlines from their wordpress site\n",
    "\n",
    "import requests\n",
    "from bs4 import BeautifulSoup\n",
    "import pandas as pd\n",
    "import csv\n",
    "\n",
    "url = \"https://thelocalnoodle.com/page/\"\n",
    "\n",
    "\n",
    "def get_headlines(page):\n",
    "    r = requests.get(page)\n",
    "    return parse_headlines(r.content)\n",
    "\n",
    "def parse_headlines(html_doc):\n",
    "    soup = BeautifulSoup( html_doc , 'html.parser') \n",
    "    headlines = []\n",
    "    # for each entry that I find\n",
    "    for e in soup.find_all(\"h1\", {\"class\": \"entry-title\"}):\n",
    "        # get the text and put it into a list\n",
    "        headlines.append(e.text)\n",
    "            \n",
    "    return headlines\n",
    "    \n",
    "\n",
    "    \n",
    "noodle_headlines = []\n",
    "for i in range(1,15):\n",
    "    url_i = url + str(i) + \"/\"\n",
    "    noodle_headlines += get_headlines(url_i) \n",
    "    \n"
   ]
  },
  {
   "cell_type": "code",
   "execution_count": 15,
   "metadata": {},
   "outputs": [
    {
     "data": {
      "text/html": [
       "<div>\n",
       "<style scoped>\n",
       "    .dataframe tbody tr th:only-of-type {\n",
       "        vertical-align: middle;\n",
       "    }\n",
       "\n",
       "    .dataframe tbody tr th {\n",
       "        vertical-align: top;\n",
       "    }\n",
       "\n",
       "    .dataframe thead th {\n",
       "        text-align: right;\n",
       "    }\n",
       "</style>\n",
       "<table border=\"1\" class=\"dataframe\">\n",
       "  <thead>\n",
       "    <tr style=\"text-align: right;\">\n",
       "      <th></th>\n",
       "      <th>text</th>\n",
       "    </tr>\n",
       "  </thead>\n",
       "  <tbody>\n",
       "    <tr>\n",
       "      <th>0</th>\n",
       "      <td>virtue field house track converted to runway s...</td>\n",
       "    </tr>\n",
       "    <tr>\n",
       "      <th>1</th>\n",
       "      <td>op ed middlebury must rescind the krakens hono...</td>\n",
       "    </tr>\n",
       "    <tr>\n",
       "      <th>2</th>\n",
       "      <td>students instagram story of sunset wins pulitz...</td>\n",
       "    </tr>\n",
       "    <tr>\n",
       "      <th>3</th>\n",
       "      <td>unable to go down ski slope feb grads go down ...</td>\n",
       "    </tr>\n",
       "    <tr>\n",
       "      <th>4</th>\n",
       "      <td>lizard animating trumps rotting body from with...</td>\n",
       "    </tr>\n",
       "  </tbody>\n",
       "</table>\n",
       "</div>"
      ],
      "text/plain": [
       "                                                text\n",
       "0  virtue field house track converted to runway s...\n",
       "1  op ed middlebury must rescind the krakens hono...\n",
       "2  students instagram story of sunset wins pulitz...\n",
       "3  unable to go down ski slope feb grads go down ...\n",
       "4  lizard animating trumps rotting body from with..."
      ]
     },
     "execution_count": 15,
     "metadata": {},
     "output_type": "execute_result"
    }
   ],
   "source": [
    "# save it as a dataframe\n",
    "df = pd.DataFrame({'text':noodle_headlines})\n",
    "\n",
    "# Converting all text to lowercase, fixing ampersands and getting rid\n",
    "# of dashes and apostrophes as they can mess up the dictionary\n",
    "df['text'] = df['text'].str.lower()\n",
    "df['text'] = df['text'].str.replace(r'&amp;', 'and')\n",
    "df['text'] = df['text'].str.replace(r'-', ' ')\n",
    "df['text'] = df['text'].str.replace(r'[^\\s\\w]','')\n",
    "df.head()"
   ]
  },
  {
   "cell_type": "code",
   "execution_count": 16,
   "metadata": {},
   "outputs": [],
   "source": [
    "df.to_csv('noodleheadlines.csv')"
   ]
  },
  {
   "cell_type": "code",
   "execution_count": null,
   "metadata": {},
   "outputs": [],
   "source": []
  }
 ],
 "metadata": {
  "kernelspec": {
   "display_name": "Python 3",
   "language": "python",
   "name": "python3"
  },
  "language_info": {
   "codemirror_mode": {
    "name": "ipython",
    "version": 3
   },
   "file_extension": ".py",
   "mimetype": "text/x-python",
   "name": "python",
   "nbconvert_exporter": "python",
   "pygments_lexer": "ipython3",
   "version": "3.7.6"
  }
 },
 "nbformat": 4,
 "nbformat_minor": 4
}
